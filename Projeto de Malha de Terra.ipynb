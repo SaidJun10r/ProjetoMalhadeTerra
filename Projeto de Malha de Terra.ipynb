{
 "cells": [
  {
   "cell_type": "markdown",
   "id": "c7f1d2bd",
   "metadata": {},
   "source": [
    "# Caderno de aprendizado sobre projeto de malha de terra"
   ]
  },
  {
   "cell_type": "markdown",
   "id": "cd192be6",
   "metadata": {},
   "source": [
    "<p> O projeto de malha de terra é essencial para o bom funcionamento dos equipamentos de forma adequada e de protecção da vida em caso de acidentes , sendo esse estabelecido pelo e normatizado pelo ABNT, uma vez que é de suma importância o estudo das formas e do ambientes que vai ser realizado o aterramento. A ordem a ser seguida para o projeto de malha de terra é: </p>\n",
    "<ol>\n",
    "    <li>Obtenção de dados de campo;\n",
    "    <li>Proceder à estratificação do solo;\n",
    "    <li>Determinar a resisitividade aparente do terreno;\n",
    "    <li>Proceder o dimensionamento do cabo de ligação e do combutor da malha;\n",
    "    <li>Cálculo dos potenciais máximos;\n",
    "    <li>Determinação do espaçamento inical entre os condutores;\n",
    "    <li>Calculo da resistência da malha;\n",
    "    <li>Verificação os fatores, e caso os mesmos não forem satisfatorios, realizar os cálculos de maneira mais precisa, e realizar novamente a verificação, e se ainda não for atendida, modificar o projeto de malha de terra.\n",
    "</ol>\n",
    "\n",
    "<p> Este caderno utiliza a linguagem python para a realização dos cálculos, assim facilitando o entendimento do código e a maior compreensão dos cálculos, támbem sendo possível realizar alterações e verificar diferentes resultados.</p>"
   ]
  },
  {
   "cell_type": "code",
   "execution_count": 1,
   "id": "776f6b28",
   "metadata": {},
   "outputs": [],
   "source": [
    "# Bibliotecas Necessárias\n",
    "from math import sqrt, log"
   ]
  },
  {
   "cell_type": "markdown",
   "id": "ebbae4fa",
   "metadata": {},
   "source": [
    "### Dados de entrada\n",
    "\n",
    "<p>Após as medições realizada em campo, é necessário a inserção das medições e dos parâmetros do projeto para a realização dos cálculos e verificação dos mesmo.</p>"
   ]
  },
  {
   "cell_type": "code",
   "execution_count": 2,
   "id": "1479d2c5",
   "metadata": {
    "scrolled": true
   },
   "outputs": [
    {
     "name": "stdout",
     "output_type": "stream",
     "text": [
      "Tensão(kV):69\n",
      "Corrente de curto circuito máxima(kA):1.2\n",
      "Corrente de malha(kA):3\n",
      "Profundidade(m):12\n",
      "Tempo de proteção(s):2345\n",
      "Temperatura ambiente(ºC):53\n",
      "Temperatura da Solda(ºC):3\n"
     ]
    }
   ],
   "source": [
    "tensao = float(input('Tensão(kV):'))\n",
    "Icc_max = float(input('Corrente de curto circuito máxima(kA):'))\n",
    "I_malha = float(input('Corrente de malha(kA):'))\n",
    "profundidade = float(input('Profundidade(m):'))\n",
    "temp_protecao = float(input('Tempo de proteção(s):'))\n",
    "temp_ambiente = float(input('Temperatura ambiente(ºC):'))\n",
    "temp_solda = float(input('Temperatura da Solda(ºC):'))"
   ]
  },
  {
   "cell_type": "markdown",
   "id": "2a6d5edd",
   "metadata": {},
   "source": [
    "### Dados do Solo"
   ]
  },
  {
   "cell_type": "code",
   "execution_count": 3,
   "id": "13720026",
   "metadata": {
    "scrolled": true
   },
   "outputs": [
    {
     "name": "stdout",
     "output_type": "stream",
     "text": [
      "Profundidade de H1:1\n",
      "Resistividade de H1:2\n",
      "Profundidade de H2:3\n",
      "Resistividade de H2:45\n",
      "Profundidade de H3:5\n",
      "Resistividade de H3:34\n",
      "Profundidade de H4:2\n",
      "Resistividade de H4:2\n",
      "Profundidade da Brita:2\n",
      "Resistividade da Brita:2\n",
      "a:3\n",
      "b:4\n",
      "Porcentagem:5\n"
     ]
    }
   ],
   "source": [
    "h1_prof = float(input('Profundidade de H1:'))\n",
    "h1_res = float(input('Resistividade de H1:'))\n",
    "\n",
    "h2_prof = float(input('Profundidade de H2:'))\n",
    "h2_res = float(input('Resistividade de H2:'))\n",
    "\n",
    "h3_prof = float(input('Profundidade de H3:'))\n",
    "h3_res = float(input('Resistividade de H3:'))\n",
    "\n",
    "h4_prof = float(input('Profundidade de H4:'))\n",
    "h4_res = float(input('Resistividade de H4:'))\n",
    "\n",
    "brita_prof = float(input('Profundidade da Brita:'))\n",
    "brita_res = float(input('Resistividade da Brita:'))\n",
    "\n",
    "a = float(input('a:'))\n",
    "b = float(input('b:'))\n",
    "porc = float(input('Porcentagem:'))"
   ]
  },
  {
   "cell_type": "markdown",
   "id": "6c1c25fe",
   "metadata": {},
   "source": [
    "### Resistividade Aparente"
   ]
  },
  {
   "cell_type": "code",
   "execution_count": 4,
   "id": "6d3eb0c2",
   "metadata": {
    "scrolled": true
   },
   "outputs": [
    {
     "name": "stdout",
     "output_type": "stream",
     "text": [
      "L1: 1.0 \n",
      "L2: 0.6 \n",
      "L3: 0.5 \n",
      "L4: 0 \n",
      "pA: 3.976977348681768\n"
     ]
    }
   ],
   "source": [
    "# L1\n",
    "if((profundidade-(h1_prof))>0):\n",
    "    L1 = h1_prof\n",
    "else:\n",
    "    L1 = profundidade\n",
    "\n",
    "L2 = 0.6\n",
    "L3 = 0.5\n",
    "L4 = 0\n",
    "pA = float((L1+L2+L3+L4)/((L1/h1_res)+(L2/h2_res)+(L3/h3_res)+(L4/h4_res)))\n",
    "print(f'L1:', L1, '\\nL2:', L2, '\\nL3:', L3, '\\nL4:', L4, '\\npA:', pA)"
   ]
  },
  {
   "cell_type": "markdown",
   "id": "e44e9ab1",
   "metadata": {},
   "source": [
    "### Cálculo das Constantes"
   ]
  },
  {
   "cell_type": "markdown",
   "id": "d72d8cd0",
   "metadata": {},
   "source": [
    "$$\n",
    "K = \\frac{p2-p1}{p2+p1}\n",
    "$$\n",
    "\n",
    "$$\n",
    "C_{s}(h_{s},K)=\\frac{1}{0,96}[1+2\\sum_{n=1}^{\\infty} \\frac{K^{n}}{\\sqrt{1+(2n\\frac{h_{s}}{0,08})^{2}}}]\n",
    "$$"
   ]
  },
  {
   "cell_type": "code",
   "execution_count": null,
   "id": "5a66fdfa",
   "metadata": {
    "scrolled": false
   },
   "outputs": [],
   "source": [
    "# Constante K\n",
    "const_K = (pA-brita_res)/(pA+brita_res)\n",
    "# Fator de correção CS\n",
    "fat_cor_CS = (1/0.96)*(1+(2*((const_K)**1))/(sqrt(1+((2*1*brita_prof/0.08)**2)))+(2*(const_K**2))/(sqrt(1+((2*2*brita_prof/0.08)**2)))+(2*(const_K**3))/(sqrt(1+((2*3*brita_prof/0.08)**2))))\n",
    "print(f'constante K:', const_K, '\\nFator de correção CS:', fat_cor_CS)"
   ]
  },
  {
   "cell_type": "markdown",
   "id": "6645a24b",
   "metadata": {},
   "source": [
    "### Cálculos das Tensões"
   ]
  },
  {
   "cell_type": "markdown",
   "id": "6f45a1b7",
   "metadata": {},
   "source": [
    "   <p>A tensão elétrica presente entre os membros superiores e inferiores de um indivíduo é chamada tensão de toque, que pode ocorrer a um defeito no equipamento. Por norma, o sistema de aterramento considera que a pessoa está afastada de 1 metro do equipamento da qual está encostando, considerando a pele do corpo humano para uma corrente de 60 hz, a resistência do corpo humano fica saturada em 1000 Ω para uma tensão de toque maior que 250 V. Essa tensão pode ser encontrada por:</p>\n",
    "\n",
    "$$\n",
    "V_{toque} = \\left(R_{ch}+\\frac{R_{c}}{2}\\right)\n",
    "$$\n",
    "\n",
    "![Tensão de toque](tenstoque.png)\n",
    "\n",
    "$$\n",
    "V_{toque_{máximo}} = (1000+1,5C_{s}(h_{s}K)p_{s})\\frac{0,116}{\\sqrt{t}}\n",
    "$$\n",
    "\n",
    "$$\n",
    "V_{passo_{máximo}} = (1000+6C_{s}(h_{s}K)p_{s})\\frac{0,116}{\\sqrt{t}}\n",
    "$$"
   ]
  },
  {
   "cell_type": "code",
   "execution_count": null,
   "id": "f6578b5d",
   "metadata": {},
   "outputs": [],
   "source": [
    "# Tensão de toque máximo\n",
    "VtoqueMax=(1000+1.5*fat_cor_CS*brita_res)*(0.116/sqrt(temp_protecao))\n",
    "# Tensão de passo máximo\n",
    "VpassoMax=(1000+6*fat_cor_CS*brita_res)*(0.116/sqrt(temp_protecao))\n",
    "print(f'Tensão de toque máximo:', VtoqueMax, '\\nTensão de passo máximo:', VpassoMax)"
   ]
  },
  {
   "cell_type": "markdown",
   "id": "72c85bce",
   "metadata": {},
   "source": [
    "### Distância das Hastes"
   ]
  },
  {
   "cell_type": "markdown",
   "id": "ec8e39ea",
   "metadata": {},
   "source": [
    "$$\n",
    "ea = (0,05 a 0,1) * a\n",
    "$$\n",
    "\n",
    "$$\n",
    "eb = (0,05 a 0,1) * b\n",
    "$$"
   ]
  },
  {
   "cell_type": "code",
   "execution_count": null,
   "id": "1baead05",
   "metadata": {},
   "outputs": [],
   "source": [
    "ea = porc*a\n",
    "eb = porc*b\n",
    "print(f'ea:', ea, '\\neb:', eb)"
   ]
  },
  {
   "cell_type": "markdown",
   "id": "4fbb44d2",
   "metadata": {},
   "source": [
    "### Número de Barras"
   ]
  },
  {
   "cell_type": "markdown",
   "id": "36f4eb40",
   "metadata": {},
   "source": [
    "$$\n",
    "Na = \\frac{a}{e_{a}}+1\n",
    "$$\n",
    "\n",
    "$$\n",
    "Nb = \\frac{b}{e_{b}}+1\n",
    "$$"
   ]
  },
  {
   "cell_type": "code",
   "execution_count": null,
   "id": "e601614d",
   "metadata": {},
   "outputs": [],
   "source": [
    "Na = (a/ea)+1\n",
    "Nb = (b/eb)+1\n",
    "print(f'Na:', Na, '\\nNb:', Nb)"
   ]
  },
  {
   "cell_type": "markdown",
   "id": "daf7966c",
   "metadata": {},
   "source": [
    "### Comprimento"
   ]
  },
  {
   "cell_type": "markdown",
   "id": "7f2d4e01",
   "metadata": {},
   "source": [
    "$$\n",
    "Lcabo = aN_{b}+bN_{a}\n",
    "$$"
   ]
  },
  {
   "cell_type": "code",
   "execution_count": null,
   "id": "071f54e9",
   "metadata": {},
   "outputs": [],
   "source": [
    "# Comprimeto do cabo\n",
    "Lcabo = a*Na+b*Nb\n",
    "print(f'Comprimento do cabo: ', Lcabo)"
   ]
  },
  {
   "cell_type": "markdown",
   "id": "f6c56acd",
   "metadata": {},
   "source": [
    "### Seção dos condutores "
   ]
  },
  {
   "cell_type": "code",
   "execution_count": null,
   "id": "c2d57efa",
   "metadata": {},
   "outputs": [],
   "source": [
    "# Seção do cobre\n",
    "Scobre = (Icc_max*1000)*100/(22653*sqrt((1/temp_protecao)*log(((temp_solda-temp_ambiente)/(234+temp_ambiente))+1)))\n",
    "# Seção da malha \n",
    "Smalha = (Icc_max*1000*0.6)*100/(22653*sqrt((1/temp_protecao)*log(((temp_solda-temp_ambiente)/(234+temp_ambiente))+1)))\n",
    "# Seção final\n",
    "if (Scobre<50):\n",
    "    Sfinal = 50\n",
    "else: \n",
    "    Sfinal = Scobre\n",
    "# Diâmetro\n",
    "diam = (sqrt(4*Sfinal/3.14159265359))/1000\n",
    "print(f'Seção do Cobre:', Scobre, '\\nSeção da malha', Smalha, '\\nSeção final:', Sfinal, '\\nDiâmetro:', diam)"
   ]
  },
  {
   "cell_type": "markdown",
   "id": "79c1ace8",
   "metadata": {},
   "source": [
    "### Resistência da malha"
   ]
  },
  {
   "cell_type": "markdown",
   "id": "2c9cd617",
   "metadata": {},
   "source": [
    "$$\n",
    "Rmalha = p_{a}\\left[\\frac{1}{L_{total}}+\\frac{1}{\\sqrt{20*A_{malha}}}\\left(1+\\frac{1}{1+h\\sqrt{\\frac{20}{A_{malha}}}}\\right)\\right]\n",
    "$$"
   ]
  },
  {
   "cell_type": "code",
   "execution_count": null,
   "id": "b5da6ae2",
   "metadata": {},
   "outputs": [],
   "source": [
    "Rmalha = pA*((1/Lcabo)+(1/sqrt(20*a*b))*(1+(1/(1+profundidade*sqrt(20/(a*b))))))\n",
    "print(f'Resistência da malha:', Rmalha)"
   ]
  },
  {
   "cell_type": "markdown",
   "id": "d899a95c",
   "metadata": {},
   "source": [
    "### Tensão de malha"
   ]
  },
  {
   "cell_type": "code",
   "execution_count": null,
   "id": "0ee107d7",
   "metadata": {},
   "outputs": [],
   "source": [
    "Vmalha = Rmalha*I_malha*1000\n",
    "print(f'Tensão de malha:', Vmalha)"
   ]
  },
  {
   "cell_type": "markdown",
   "id": "a4298094",
   "metadata": {},
   "source": [
    "### Resultado"
   ]
  },
  {
   "cell_type": "code",
   "execution_count": null,
   "id": "2ff4b5cc",
   "metadata": {},
   "outputs": [],
   "source": [
    "if (Vmalha<VtoqueMax):\n",
    "    print(\"Vmalha < VToqueMax - Condição Satisfeita\")\n",
    "else:\n",
    "    print(\"Vmalha > VToqueMax - Condição Não Satisfeita, Necessário cálculos detalhados\")"
   ]
  },
  {
   "cell_type": "markdown",
   "id": "67f3d40d",
   "metadata": {},
   "source": [
    "### Cálculos detalhados"
   ]
  },
  {
   "cell_type": "code",
   "execution_count": null,
   "id": "831871b2",
   "metadata": {},
   "outputs": [],
   "source": [
    "Ki = 0.656+0.172*(sqrt(Na*Nb))\n",
    "Kii = 1/((2*sqrt(Na*Nb))**(2/(sqrt(Na*Nb))))\n",
    "Kp = sqrt(1+profundidade)\n",
    "Km = (1/(2*3.14159265359))*(log((((max(ea, eb))**2)/(16*profundidade*diam))+((((max(ea, eb))+2*profundidade)**2)/(8*(max(ea, eb))*diam))-(profundidade/(4*diam)))+(Kii/Kp)*log(8/(3.14159265359*(2*(sqrt(Na*Nb))-1))))\n",
    "# Verificar o que deu errado aqui\n",
    "Kpp = (1/3.14159265359)*((1/(2*profundidade))+(1/((max(ea, eb))+profundidade))+((1/(max(ea, eb)))*(1-(0.5**((max(Na, Nb, 2))-2)))))\n",
    "print(f'Ki:', Ki, '\\nKii:', Kii, '\\nKp:', Kp, '\\nKm:', Km, '\\nKpp:', Kpp)"
   ]
  },
  {
   "cell_type": "markdown",
   "id": "3aa7f038",
   "metadata": {},
   "source": [
    "### Tensões"
   ]
  },
  {
   "cell_type": "code",
   "execution_count": null,
   "id": "5ce3a3a2",
   "metadata": {},
   "outputs": [],
   "source": [
    "# Tensão da malha\n",
    "Vmalha = pA*Km*Ki*I_malha*1000/Lcabo # Arrumar depois\n",
    "Vpsm = pA*Kpp*Ki*I_malha*1000/Lcabo # Deu errado aqui tbm\n",
    "print(f'Tensão da malha:', Vmalha, '\\nTensão psm:', Vpsm)"
   ]
  },
  {
   "cell_type": "markdown",
   "id": "69fe4b7d",
   "metadata": {},
   "source": [
    "### Resultados"
   ]
  },
  {
   "cell_type": "code",
   "execution_count": null,
   "id": "a682fbc2",
   "metadata": {},
   "outputs": [],
   "source": [
    "# Vmalha<Vtoque\n",
    "if (Vmalha<VtoqueMax) or (Vmalha<=VtoqueMax):\n",
    "    print('Vmalha<Vtoque atendida')\n",
    "else:\n",
    "    print('Vmalha<Vtoque não atendida')\n",
    "# Vpsm<VPassoMaxima\n",
    "if (Vpsm<VpassoMax):\n",
    "    print('Vpsm<VPassoMaxima atendida')\n",
    "else:\n",
    "    print('Vpsm<VPassoMaxima não atendida')"
   ]
  },
  {
   "cell_type": "markdown",
   "id": "e7a9cab3",
   "metadata": {},
   "source": [
    "### Caso não seja atendida"
   ]
  },
  {
   "cell_type": "code",
   "execution_count": null,
   "id": "fe687eda",
   "metadata": {},
   "outputs": [],
   "source": [
    "# Nova Tensão de Malha\n",
    "if (Vmalha>VtoqueMax):\n",
    "    print(f'Nova tensão de malha:', VtoqueMax)\n",
    "    novVmalha = VtoqueMax\n",
    "else:\n",
    "    print(f'A tensão já foi atendida.')\n",
    "    novVmalha = 1\n",
    "# Novo comprimento total\n",
    "if (Vmalha>VtoqueMax):\n",
    "    novLcabo = pA*Ki*I_malha*1000/novVmalha\n",
    "    print(f'Novo comprimento total:', novLcabo)\n",
    "else:\n",
    "    novLcabo = 1\n",
    "    print(f'O comprimento já foi satisfatorio.')\n",
    "# Comprimento das hastes\n",
    "if (Vmalha>VtoqueMax):\n",
    "    print(f'Novo comprimento das hastes:', novLcabo-Lcabo)\n",
    "else:\n",
    "    print(f'O comprimento já foi satisfatorio.')"
   ]
  },
  {
   "cell_type": "code",
   "execution_count": null,
   "id": "6a74aa71",
   "metadata": {},
   "outputs": [],
   "source": []
  }
 ],
 "metadata": {
  "kernelspec": {
   "display_name": "Python 3 (ipykernel)",
   "language": "python",
   "name": "python3"
  },
  "language_info": {
   "codemirror_mode": {
    "name": "ipython",
    "version": 3
   },
   "file_extension": ".py",
   "mimetype": "text/x-python",
   "name": "python",
   "nbconvert_exporter": "python",
   "pygments_lexer": "ipython3",
   "version": "3.11.3"
  }
 },
 "nbformat": 4,
 "nbformat_minor": 5
}
